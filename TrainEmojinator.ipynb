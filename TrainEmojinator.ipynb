{
 "cells": [
  {
   "cell_type": "code",
   "execution_count": 2,
   "metadata": {},
   "outputs": [
    {
     "name": "stderr",
     "output_type": "stream",
     "text": [
      "C:\\Users\\user\\Anaconda3\\lib\\site-packages\\h5py\\__init__.py:36: FutureWarning: Conversion of the second argument of issubdtype from `float` to `np.floating` is deprecated. In future, it will be treated as `np.float64 == np.dtype(float).type`.\n",
      "  from ._conv import register_converters as _register_converters\n",
      "Using TensorFlow backend.\n"
     ]
    }
   ],
   "source": [
    "import numpy as np\n",
    "import pandas as pd\n",
    "from keras import layers\n",
    "from keras.layers import Dense,Flatten,Conv2D\n",
    "from keras.layers import MaxPooling2D,Dropout\n",
    "from keras.utils import np_utils,print_summary\n",
    "from keras.models import Sequential\n",
    "from keras.callbacks import ModelCheckpoint"
   ]
  },
  {
   "cell_type": "code",
   "execution_count": 3,
   "metadata": {},
   "outputs": [],
   "source": [
    "data=pd.read_csv(\"train_foo.csv\")\n",
    "dataset=np.array(data)\n",
    "np.random.shuffle(dataset)\n",
    "X=dataset\n",
    "Y=dataset\n",
    "X=X[:,1:2501]\n",
    "Y=Y[:,0]"
   ]
  },
  {
   "cell_type": "code",
   "execution_count": 4,
   "metadata": {},
   "outputs": [],
   "source": [
    "X_train=X[0:12000,:]\n",
    "X_train=X_train/255.\n",
    "X_test=X[12000:13201,:]\n",
    "X_test=X_test/255."
   ]
  },
  {
   "cell_type": "code",
   "execution_count": 5,
   "metadata": {},
   "outputs": [],
   "source": [
    "Y=Y.reshape(Y.shape[0],1)\n",
    "Y_train=Y[0:12000,:]\n",
    "Y_train=Y_train.T\n",
    "Y_test=Y[12000:13201,:]\n",
    "Y_test=Y_test.T"
   ]
  },
  {
   "cell_type": "code",
   "execution_count": 6,
   "metadata": {},
   "outputs": [
    {
     "name": "stdout",
     "output_type": "stream",
     "text": [
      "number of training examples =12000\n",
      "number of test examples =1199\n",
      "X_train shape: (12000, 2500)\n",
      "Y_train shape: (1, 12000)\n",
      "X_test shape: (1199, 2500)\n",
      "Y_test shape: (1, 1199)\n"
     ]
    }
   ],
   "source": [
    "print(\"number of training examples =\" + str(X_train.shape[0]))\n",
    "print(\"number of test examples =\" + str(X_test.shape[0]))\n",
    "print(\"X_train shape: \"+ str(X_train.shape))\n",
    "print(\"Y_train shape: \"+ str(Y_train.shape))\n",
    "print(\"X_test shape: \"+ str(X_test.shape))\n",
    "print(\"Y_test shape: \"+ str(Y_test.shape))"
   ]
  },
  {
   "cell_type": "code",
   "execution_count": 7,
   "metadata": {},
   "outputs": [
    {
     "name": "stdout",
     "output_type": "stream",
     "text": [
      "X_train shape: (12000, 50, 50, 1)\n",
      "X_test shape: (1199, 50, 50, 1)\n"
     ]
    }
   ],
   "source": [
    "image_x=50\n",
    "image_y=50\n",
    "\n",
    "train_y=np_utils.to_categorical(Y_train)\n",
    "test_y=np_utils.to_categorical(Y_test)\n",
    "train_y=train_y.reshape(train_y.shape[1],train_y.shape[2])\n",
    "test_y=test_y.reshape(test_y.shape[1],test_y.shape[2])\n",
    "X_train=X_train.reshape(X_train.shape[0],50,50,1)\n",
    "X_test=X_test.reshape(X_test.shape[0],50,50,1)\n",
    "print(\"X_train shape: \" + str(X_train.shape))\n",
    "print(\"X_test shape: \" + str(X_test.shape))"
   ]
  },
  {
   "cell_type": "code",
   "execution_count": 11,
   "metadata": {},
   "outputs": [],
   "source": [
    "def keras_model(image_x,image_y):\n",
    "\tnum_of_classes=12\n",
    "\tmodel=Sequential()\n",
    "\tmodel.add(Conv2D(filters=32,kernel_size=(5,5),input_shape=(image_x,image_y,1),activation='relu'))\n",
    "\tmodel.add(MaxPooling2D(pool_size=(2,2),strides=(2,2),padding='same'))\n",
    "\tmodel.add(Conv2D(64,(5,5),activation='relu'))\n",
    "\tmodel.add(MaxPooling2D(pool_size=(5,5),strides=(5,5),padding='same'))\n",
    "\tmodel.add(Flatten())\n",
    "\tmodel.add(Dense(1024,activation='relu'))\n",
    "\tmodel.add(Dropout(0.6))\n",
    "\tmodel.add(Dense(num_of_classes,activation='softmax'))\n",
    "    \n",
    "\tmodel.compile(loss='categorical_crossentropy',optimizer='adam',metrics=['accuracy'])\n",
    "\tfilepath=\"emojinator.h5\"\n",
    "\tcheckpoint1=ModelCheckpoint(filepath,monitor='val_acc',verbose=1,save_best_only=True,mode='max')\n",
    "\tcallbacks_list=[checkpoint1]\n",
    "\n",
    "\treturn model,callbacks_list"
   ]
  },
  {
   "cell_type": "code",
   "execution_count": 12,
   "metadata": {},
   "outputs": [
    {
     "name": "stdout",
     "output_type": "stream",
     "text": [
      "Train on 12000 samples, validate on 1199 samples\n",
      "Epoch 1/10\n",
      "12000/12000 [==============================] - 346s 29ms/step - loss: 0.1370 - acc: 0.9594 - val_loss: 4.8289e-04 - val_acc: 1.0000\n",
      "\n",
      "Epoch 00001: val_acc improved from -inf to 1.00000, saving model to emojinator.h5\n",
      "Epoch 2/10\n",
      "12000/12000 [==============================] - 343s 29ms/step - loss: 0.0015 - acc: 0.9997 - val_loss: 1.4448e-05 - val_acc: 1.0000\n",
      "\n",
      "Epoch 00002: val_acc did not improve from 1.00000\n",
      "Epoch 3/10\n",
      "12000/12000 [==============================] - 343s 29ms/step - loss: 4.2617e-04 - acc: 0.9999 - val_loss: 3.5308e-05 - val_acc: 1.0000\n",
      "\n",
      "Epoch 00003: val_acc did not improve from 1.00000\n",
      "Epoch 4/10\n",
      "12000/12000 [==============================] - 343s 29ms/step - loss: 6.0488e-05 - acc: 1.0000 - val_loss: 2.1263e-06 - val_acc: 1.0000\n",
      "\n",
      "Epoch 00004: val_acc did not improve from 1.00000\n",
      "Epoch 5/10\n",
      "12000/12000 [==============================] - 344s 29ms/step - loss: 4.2270e-04 - acc: 0.9998 - val_loss: 1.0362e-05 - val_acc: 1.0000\n",
      "\n",
      "Epoch 00005: val_acc did not improve from 1.00000\n",
      "Epoch 6/10\n",
      "12000/12000 [==============================] - 344s 29ms/step - loss: 1.4061e-04 - acc: 1.0000 - val_loss: 1.1005e-06 - val_acc: 1.0000\n",
      "\n",
      "Epoch 00006: val_acc did not improve from 1.00000\n",
      "Epoch 7/10\n",
      "12000/12000 [==============================] - 343s 29ms/step - loss: 3.2984e-05 - acc: 1.0000 - val_loss: 4.8531e-07 - val_acc: 1.0000\n",
      "\n",
      "Epoch 00007: val_acc did not improve from 1.00000\n",
      "Epoch 8/10\n",
      "12000/12000 [==============================] - 345s 29ms/step - loss: 1.1678e-05 - acc: 1.0000 - val_loss: 2.4931e-07 - val_acc: 1.0000\n",
      "\n",
      "Epoch 00008: val_acc did not improve from 1.00000\n",
      "Epoch 9/10\n",
      "12000/12000 [==============================] - 345s 29ms/step - loss: 8.4302e-06 - acc: 1.0000 - val_loss: 1.8185e-07 - val_acc: 1.0000\n",
      "\n",
      "Epoch 00009: val_acc did not improve from 1.00000\n",
      "Epoch 10/10\n",
      "12000/12000 [==============================] - 349s 29ms/step - loss: 5.5618e-05 - acc: 1.0000 - val_loss: 2.0079e-07 - val_acc: 1.0000\n",
      "\n",
      "Epoch 00010: val_acc did not improve from 1.00000\n",
      "CNN Error: 0.00%\n",
      "_________________________________________________________________\n",
      "Layer (type)                 Output Shape              Param #   \n",
      "=================================================================\n",
      "conv2d_1 (Conv2D)            (None, 46, 46, 32)        832       \n",
      "_________________________________________________________________\n",
      "max_pooling2d_1 (MaxPooling2 (None, 23, 23, 32)        0         \n",
      "_________________________________________________________________\n",
      "conv2d_2 (Conv2D)            (None, 19, 19, 64)        51264     \n",
      "_________________________________________________________________\n",
      "max_pooling2d_2 (MaxPooling2 (None, 4, 4, 64)          0         \n",
      "_________________________________________________________________\n",
      "flatten_1 (Flatten)          (None, 1024)              0         \n",
      "_________________________________________________________________\n",
      "dense_1 (Dense)              (None, 1024)              1049600   \n",
      "_________________________________________________________________\n",
      "dropout_1 (Dropout)          (None, 1024)              0         \n",
      "_________________________________________________________________\n",
      "dense_2 (Dense)              (None, 12)                12300     \n",
      "=================================================================\n",
      "Total params: 1,113,996\n",
      "Trainable params: 1,113,996\n",
      "Non-trainable params: 0\n",
      "_________________________________________________________________\n"
     ]
    }
   ],
   "source": [
    "model,callbacks_list=keras_model(image_x,image_y)\n",
    "model.fit(X_train,train_y,validation_data=(X_test,test_y),epochs=10,batch_size=64,callbacks=callbacks_list)\n",
    "scores=model.evaluate(X_test,test_y,verbose=0)\n",
    "print(\"CNN Error: %.2f%%\" % (100 - scores[1] * 100))\n",
    "print_summary(model)\n",
    "model.save('emojinator.h5')"
   ]
  },
  {
   "cell_type": "code",
   "execution_count": null,
   "metadata": {},
   "outputs": [],
   "source": []
  }
 ],
 "metadata": {
  "kernelspec": {
   "display_name": "Python 3",
   "language": "python",
   "name": "python3"
  },
  "language_info": {
   "codemirror_mode": {
    "name": "ipython",
    "version": 3
   },
   "file_extension": ".py",
   "mimetype": "text/x-python",
   "name": "python",
   "nbconvert_exporter": "python",
   "pygments_lexer": "ipython3",
   "version": "3.6.5"
  }
 },
 "nbformat": 4,
 "nbformat_minor": 2
}
