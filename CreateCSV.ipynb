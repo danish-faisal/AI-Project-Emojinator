{
 "cells": [
  {
   "cell_type": "code",
   "execution_count": null,
   "metadata": {},
   "outputs": [],
   "source": [
    "from scipy.misc import imread\n",
    "import numpy as np\n",
    "import pandas as pd\n",
    "import os\n",
    "root = './gestures' # or ‘./test’ depending on for which the CSV is being created\n",
    "\n",
    "# go through each directory in the root folder given above\n",
    "for directory, subdirectories, files in os.walk(root):\n",
    "# go through each file in that directory\n",
    "    for file in files:\n",
    "    # read the image file and extract its pixels\n",
    "        print(file)\n",
    "        im = imread(os.path.join(directory,file))\n",
    "        value = im.flatten()\n",
    "# I renamed the folders containing digits to the contained digit itself. For example, digit_0 folder was renamed to 0.\n",
    "# so taking the 9th value of the folder gave the digit (i.e. \"./train/8\" ==> 9th value is 8), which was inserted into the first column of the dataset.\n",
    "        value = np.hstack((directory[8:],value))\n",
    "        df = pd.DataFrame(value).T\n",
    "        df = df.sample(frac=1) # shuffle the dataset\n",
    "        with open('train_foo.csv', 'a') as dataset:\n",
    "            df.to_csv(dataset, header=False, index=False)"
   ]
  }
 ],
 "metadata": {
  "kernelspec": {
   "display_name": "Python 3",
   "language": "python",
   "name": "python3"
  },
  "language_info": {
   "codemirror_mode": {
    "name": "ipython",
    "version": 3
   },
   "file_extension": ".py",
   "mimetype": "text/x-python",
   "name": "python",
   "nbconvert_exporter": "python",
   "pygments_lexer": "ipython3",
   "version": "3.6.5"
  }
 },
 "nbformat": 4,
 "nbformat_minor": 2
}
